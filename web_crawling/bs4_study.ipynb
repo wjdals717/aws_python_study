{
 "cells": [
  {
   "cell_type": "code",
   "execution_count": null,
   "metadata": {},
   "outputs": [],
   "source": [
    "# 웹 크롤링, 웹 스크래핑\n",
    "# 크롤링 -> 전체를 다 가져오는 것\n",
    "# 스크래핑 -> 필요한 부분만 가져오는 것\n",
    "\n",
    "# 정적 크롤링, 동적 크롤링\n",
    "# 파싱 패키지(라이브러리)\n",
    "# 정적 크롤링 -> beautifulsoup()\n",
    "# 동적 크롤링 -> beautifulsoup(), selenium\n",
    "# 사용할 웹 브라우저 -> 크롬(크롬 드라이브)"
   ]
  },
  {
   "cell_type": "code",
   "execution_count": 2,
   "metadata": {},
   "outputs": [
    {
     "name": "stdout",
     "output_type": "stream",
     "text": [
      "쿤달 퍼퓸 디퓨저 200ml 3개 + 섬유스틱 15개 세트, 블랙체리향\n",
      "설화수 New 자음2종, 1세트\n",
      "동원 튜나리챔 선물세트 O-68호 + 부직포백, 1세트\n",
      "넛츠팜 프리미엄 견과 선물세트 4호, 1150g, 1세트\n",
      "이동갈비 소고기 한입 LA양념갈비 선물세트 (냉동), 500g, 4개\n",
      "종근당 침향환 골드, 225g, 1개\n",
      "떡편 감사세트 1호 24개입 (냉동), 1080g, 1세트\n",
      "애경 명화의 품격 O-2호 선물세트, 1세트\n",
      "코멧 깨끗한 천연펄프 키친타월 150매, 8개\n",
      "바디프랜드 레그넘 안마의자 + 러그(랜덤발송) 방문설치, BFK-5000, 오트베이지\n",
      "청정원 행복 2호, 1세트\n",
      "타야스 투바나 초콜렛, 1600g, 1개\n",
      "\n",
      "\n",
      "\n",
      "\n"
     ]
    }
   ],
   "source": [
    "import requests\n",
    "from bs4 import BeautifulSoup as bs\n",
    "\n",
    "url = \"https://pages.coupang.com/p/96636\"\n",
    "\n",
    "response = requests.get(url)\n",
    "html = bs(response.text)\n",
    "# findInfo_sectionTitle = html.find(\"span\", class_=\"info_section__title\")\n",
    "findInfo_sectionTitle = html.find_all(\"span\", class_=\"info_section__title\")\n",
    "for title in findInfo_sectionTitle:\n",
    "    print(title.text)"
   ]
  },
  {
   "cell_type": "code",
   "execution_count": 3,
   "metadata": {},
   "outputs": [
    {
     "data": {
      "text/plain": [
       "[{'title': '쿤달 퍼퓸 디퓨저 200ml 3개 + 섬유스틱 15개 세트, 블랙체리향',\n",
       "  'img': 'https://thumbnail10.coupangcdn.com/thumbnails/remote/230x230ex/image/retail/images/3671196941445019-5989f3aa-a942-44e8-bacd-fb4e093aa71c.jpg',\n",
       "  'price': '21,520원'},\n",
       " {'title': '설화수 New 자음2종, 1세트',\n",
       "  'img': 'https://thumbnail6.coupangcdn.com/thumbnails/remote/230x230ex/image/retail/images/4173917782382193-aecaab22-634d-4570-8e6f-0cad29b2149e.jpg',\n",
       "  'price': '112,000원'},\n",
       " {'title': '동원 튜나리챔 선물세트 O-68호 + 부직포백, 1세트',\n",
       "  'img': 'https://thumbnail6.coupangcdn.com/thumbnails/remote/230x230ex/image/retail/images/2023/08/11/17/6/ed6a339d-0284-4516-a9e3-65c6c0d13bca.jpg',\n",
       "  'price': '34,900원'},\n",
       " {'title': '넛츠팜 프리미엄 견과 선물세트 4호, 1150g, 1세트',\n",
       "  'img': 'https://thumbnail10.coupangcdn.com/thumbnails/remote/230x230ex/image/product/image/vendoritem/2019/02/15/3025312682/7f05b638-a55a-4037-8e76-1035974e7d86.jpg',\n",
       "  'price': '33,930원'},\n",
       " {'title': '이동갈비 소고기 한입 LA양념갈비 선물세트 (냉동), 500g, 4개',\n",
       "  'img': 'https://thumbnail9.coupangcdn.com/thumbnails/remote/230x230ex/image/retail/images/2023/08/16/18/1/11edc5e5-d4b8-475d-aacf-df3002e519bc.jpg',\n",
       "  'price': '59,600원'},\n",
       " {'title': '종근당 침향환 골드, 225g, 1개',\n",
       "  'img': 'https://thumbnail7.coupangcdn.com/thumbnails/remote/230x230ex/image/retail/images/1489653006914303-966acf23-cc0e-4c82-86b3-a60ec00416a7.jpg',\n",
       "  'price': '58,900원'},\n",
       " {'title': '떡편 감사세트 1호 24개입 (냉동), 1080g, 1세트',\n",
       "  'img': 'https://thumbnail7.coupangcdn.com/thumbnails/remote/230x230ex/image/retail/images/457539561315-406c6eff-2e95-4b8f-8f07-d916ae3a6b61.jpg',\n",
       "  'price': '25,900원'},\n",
       " {'title': '애경 명화의 품격 O-2호 선물세트, 1세트',\n",
       "  'img': 'https://thumbnail9.coupangcdn.com/thumbnails/remote/230x230ex/image/retail/images/2023/08/11/15/1/62786b28-5dca-407d-a228-92e3aeebc4fd.jpg',\n",
       "  'price': '19,450원'},\n",
       " {'title': '코멧 깨끗한 천연펄프 키친타월 150매, 8개',\n",
       "  'img': 'https://thumbnail10.coupangcdn.com/thumbnails/remote/230x230ex/image/retail/images/702510257453650-55ca429c-1a8e-4385-b70b-1a6dcd0eaffd.jpg',\n",
       "  'price': '5,990원'},\n",
       " {'title': '바디프랜드 레그넘 안마의자 + 러그(랜덤발송) 방문설치, BFK-5000, 오트베이지',\n",
       "  'img': 'https://thumbnail9.coupangcdn.com/thumbnails/remote/230x230ex/image/retail/images/1868430085607403-b15e6f7c-1c9a-427d-b49d-40e5b387a5db.jpg',\n",
       "  'price': '1,940,000원'},\n",
       " {'title': '청정원 행복 2호, 1세트',\n",
       "  'img': 'https://thumbnail6.coupangcdn.com/thumbnails/remote/230x230ex/image/retail/images/7537201921766957-699400a0-f754-431d-b18b-a3ebd86423fc.jpg',\n",
       "  'price': '27,440원'},\n",
       " {'title': '타야스 투바나 초콜렛, 1600g, 1개',\n",
       "  'img': 'https://thumbnail9.coupangcdn.com/thumbnails/remote/230x230ex/image/retail/images/1066053389089338-5e0dd077-2d91-4609-8f9c-4860cb640c1b.jpg',\n",
       "  'price': '12,750원'},\n",
       " {'title': '', 'img': '', 'price': ''},\n",
       " {'title': '', 'img': '', 'price': ''},\n",
       " {'title': '', 'img': '', 'price': ''},\n",
       " {'title': '', 'img': '', 'price': ''}]"
      ]
     },
     "execution_count": 3,
     "metadata": {},
     "output_type": "execute_result"
    }
   ],
   "source": [
    "sale_point_products = html.select(\".sale_point_products .sale_point_product\")\n",
    "product_list = []\n",
    "\n",
    "for product in sale_point_products:\n",
    "    title = product.select_one(\".info_section__title\").text\n",
    "    price = product.select_one(\".price_info__discount\")\n",
    "    price = price.text if price != None else \"\"\n",
    "    img = product.select_one(\".sale_point_product__product_image > img\").get(\"lazy-load\")\n",
    "    img = \"https:\" + img if img != None else \"\"\n",
    "\n",
    "    dic = {\n",
    "        \"title\": title,\n",
    "        \"img\": img,\n",
    "        \"price\": price\n",
    "    }\n",
    "    product_list.append(dic)\n",
    "    \n",
    "product_list"
   ]
  }
 ],
 "metadata": {
  "kernelspec": {
   "display_name": "base",
   "language": "python",
   "name": "python3"
  },
  "language_info": {
   "codemirror_mode": {
    "name": "ipython",
    "version": 3
   },
   "file_extension": ".py",
   "mimetype": "text/x-python",
   "name": "python",
   "nbconvert_exporter": "python",
   "pygments_lexer": "ipython3",
   "version": "3.11.5"
  },
  "orig_nbformat": 4
 },
 "nbformat": 4,
 "nbformat_minor": 2
}
