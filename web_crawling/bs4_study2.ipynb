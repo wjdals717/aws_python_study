{
 "cells": [
  {
   "cell_type": "code",
   "execution_count": 74,
   "metadata": {},
   "outputs": [],
   "source": [
    "import requests\n",
    "from bs4 import BeautifulSoup as bs\n",
    "\n",
    "url = \"https://pages.coupang.com/p/96636\"\n",
    "\n",
    "response = requests.get(url)\n",
    "html = bs(response.text)"
   ]
  },
  {
   "cell_type": "code",
   "execution_count": 113,
   "metadata": {},
   "outputs": [],
   "source": [
    "\n",
    "# 1 select 사용\n",
    "# imgs = html.select(\".sale_point_product__product_image > img\")\n",
    "# for img in imgs:\n",
    "#     if bool(img.get(\"lazy-load\")):\n",
    "#         print(\"https:\" + img.get(\"lazy-load\"))\n",
    "\n",
    "# 2 find_all 사용\n",
    "divs = html.find_all(\"div\", class_=\"sale_point_product__product_image\")\n",
    "for div in divs:\n",
    "    img = div.find(\"img\")\n",
    "    if bool(img.get(\"lazy-load\")):\n",
    "        print(\"https:\" + img.get(\"lazy-load\"))"
   ]
  },
  {
   "cell_type": "code",
   "execution_count": null,
   "metadata": {},
   "outputs": [],
   "source": [
    "prices = html.find_all(\"span\", class_=\"price_info__discount\")\n",
    "for price in prices:\n",
    "    print(price.text)\n"
   ]
  },
  {
   "cell_type": "code",
   "execution_count": null,
   "metadata": {},
   "outputs": [],
   "source": [
    "import requests\n",
    "from bs4 import BeautifulSoup as bs\n",
    "\n",
    "url = \"https://comic.naver.com/webtoon?tab=mon\"\n",
    "\n",
    "response = requests.get(url)\n",
    "html = bs(response.text)"
   ]
  }
 ],
 "metadata": {
  "kernelspec": {
   "display_name": "base",
   "language": "python",
   "name": "python3"
  },
  "language_info": {
   "codemirror_mode": {
    "name": "ipython",
    "version": 3
   },
   "file_extension": ".py",
   "mimetype": "text/x-python",
   "name": "python",
   "nbconvert_exporter": "python",
   "pygments_lexer": "ipython3",
   "version": "3.11.5"
  },
  "orig_nbformat": 4
 },
 "nbformat": 4,
 "nbformat_minor": 2
}
