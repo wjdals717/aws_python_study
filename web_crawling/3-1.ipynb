{
 "cells": [
  {
   "cell_type": "code",
   "execution_count": 1,
   "metadata": {},
   "outputs": [
    {
     "ename": "IndexError",
     "evalue": "list index out of range",
     "output_type": "error",
     "traceback": [
      "\u001b[1;31m---------------------------------------------------------------------------\u001b[0m",
      "\u001b[1;31mIndexError\u001b[0m                                Traceback (most recent call last)",
      "\u001b[1;32mc:\\aws\\python\\basic\\web_crawling\\3-1.ipynb 셀 1\u001b[0m line \u001b[0;36m4\n\u001b[0;32m     <a href='vscode-notebook-cell:/c%3A/aws/python/basic/web_crawling/3-1.ipynb#W0sZmlsZQ%3D%3D?line=38'>39</a>\u001b[0m hits \u001b[39m=\u001b[39m div\u001b[39m.\u001b[39mfind_element(by\u001b[39m=\u001b[39mBy\u001b[39m.\u001b[39mCSS_SELECTOR, value\u001b[39m=\u001b[39m\u001b[39m\"\u001b[39m\u001b[39m.info-data p:nth-child(3) .data\u001b[39m\u001b[39m\"\u001b[39m)\u001b[39m.\u001b[39mget_attribute(name\u001b[39m=\u001b[39m\u001b[39m\"\u001b[39m\u001b[39minnerText\u001b[39m\u001b[39m\"\u001b[39m)\n\u001b[0;32m     <a href='vscode-notebook-cell:/c%3A/aws/python/basic/web_crawling/3-1.ipynb#W0sZmlsZQ%3D%3D?line=39'>40</a>\u001b[0m request_count \u001b[39m=\u001b[39m div\u001b[39m.\u001b[39mfind_element(by\u001b[39m=\u001b[39mBy\u001b[39m.\u001b[39mCSS_SELECTOR, value\u001b[39m=\u001b[39m\u001b[39m\"\u001b[39m\u001b[39m.info-data p:nth-child(4) .data\u001b[39m\u001b[39m\"\u001b[39m)\u001b[39m.\u001b[39mget_attribute(name\u001b[39m=\u001b[39m\u001b[39m\"\u001b[39m\u001b[39minnerText\u001b[39m\u001b[39m\"\u001b[39m)\n\u001b[1;32m---> <a href='vscode-notebook-cell:/c%3A/aws/python/basic/web_crawling/3-1.ipynb#W0sZmlsZQ%3D%3D?line=40'>41</a>\u001b[0m keyword \u001b[39m=\u001b[39m div\u001b[39m.\u001b[39mfind_element(by\u001b[39m=\u001b[39mBy\u001b[39m.\u001b[39mCSS_SELECTOR, value\u001b[39m=\u001b[39m\u001b[39m\"\u001b[39m\u001b[39m.info-data p:nth-child(5)\u001b[39m\u001b[39m\"\u001b[39m)\u001b[39m.\u001b[39mtext\u001b[39m.\u001b[39msplit(\u001b[39m\"\u001b[39m\u001b[39m키워드 \u001b[39m\u001b[39m\"\u001b[39m)[\u001b[39m1\u001b[39m]\n\u001b[0;32m     <a href='vscode-notebook-cell:/c%3A/aws/python/basic/web_crawling/3-1.ipynb#W0sZmlsZQ%3D%3D?line=42'>43</a>\u001b[0m data \u001b[39m=\u001b[39m {\n\u001b[0;32m     <a href='vscode-notebook-cell:/c%3A/aws/python/basic/web_crawling/3-1.ipynb#W0sZmlsZQ%3D%3D?line=43'>44</a>\u001b[0m     \u001b[39m\"\u001b[39m\u001b[39mtitle\u001b[39m\u001b[39m\"\u001b[39m: title,\n\u001b[0;32m     <a href='vscode-notebook-cell:/c%3A/aws/python/basic/web_crawling/3-1.ipynb#W0sZmlsZQ%3D%3D?line=44'>45</a>\u001b[0m     \u001b[39m\"\u001b[39m\u001b[39mprovider_organization\u001b[39m\u001b[39m\"\u001b[39m: provider_organization,\n\u001b[1;32m   (...)\u001b[0m\n\u001b[0;32m     <a href='vscode-notebook-cell:/c%3A/aws/python/basic/web_crawling/3-1.ipynb#W0sZmlsZQ%3D%3D?line=48'>49</a>\u001b[0m     \u001b[39m\"\u001b[39m\u001b[39mkeyword\u001b[39m\u001b[39m\"\u001b[39m: keyword\n\u001b[0;32m     <a href='vscode-notebook-cell:/c%3A/aws/python/basic/web_crawling/3-1.ipynb#W0sZmlsZQ%3D%3D?line=49'>50</a>\u001b[0m }\n\u001b[0;32m     <a href='vscode-notebook-cell:/c%3A/aws/python/basic/web_crawling/3-1.ipynb#W0sZmlsZQ%3D%3D?line=50'>51</a>\u001b[0m data_list\u001b[39m.\u001b[39mappend(data)\n",
      "\u001b[1;31mIndexError\u001b[0m: list index out of range"
     ]
    }
   ],
   "source": [
    "# 크롬 드라이버\n",
    "from selenium import webdriver\n",
    "from selenium.webdriver.common.keys import Keys\n",
    "from selenium.webdriver.common.by import By\n",
    "import time\n",
    "import json\n",
    "\n",
    "driver = webdriver.Chrome()\n",
    "driver.get(\"https://www.data.go.kr/index.do\")\n",
    "\n",
    "time.sleep(3)\n",
    "\n",
    "# 원격으로 검색하기\n",
    "searchValue = input(\"어떤 공공데이터를 찾으시나요? \")\n",
    "searchPage = input(\"수집하실 페이지 범위를 입력하세요(예: 1~4): \")\n",
    "searchPage = list(map(int, searchPage.split(\"~\")))\n",
    "\n",
    "searchInput = driver.find_element(by=By.CSS_SELECTOR, value=\"#keyword\")\n",
    "searchInput.send_keys(searchValue)              # input을 통해 입력한 값이 검색창에 입력됨\n",
    "searchInput.send_keys(Keys.RETURN)              # 자동으로 enter가 되어 검색된 화면으로 이동\n",
    "\n",
    "time.sleep(2)\n",
    "\n",
    "driver.find_element(by=By.XPATH, value='//*[@id=\"dTypeAPI\"]/a').click()  # 오픈 API 페이지로 이동버튼 클릭\n",
    "time.sleep(1)\n",
    "\n",
    "data_list = []\n",
    "for i in range(searchPage[0], searchPage[1] + 1):\n",
    "    if(i > 1):      # 1페이지는 페이지 버튼 클릭 제외\n",
    "        driver.find_element(by=By.XPATH, value=f'//*[@id=\"apiDataList\"]/nav/a[{i+1}]').click()  # 페이지 이동버튼 클릭\n",
    "        time.sleep(3)\n",
    "\n",
    "    divs = driver.find_elements(by=By.CSS_SELECTOR, value=\".result-list ul li\")\n",
    "\n",
    "    for div in divs:\n",
    "        title = div.find_element(by=By.CSS_SELECTOR, value=\".title\").get_attribute(name=\"innerText\")\n",
    "        provider_organization = div.find_element(by=By.CSS_SELECTOR, value=\".data\").get_attribute(name=\"innerText\")\n",
    "        update_date = div.find_element(by=By.CSS_SELECTOR, value=\".info-data p:nth-child(2) .data\").get_attribute(name=\"innerText\")\n",
    "        hits = div.find_element(by=By.CSS_SELECTOR, value=\".info-data p:nth-child(3) .data\").get_attribute(name=\"innerText\")\n",
    "        request_count = div.find_element(by=By.CSS_SELECTOR, value=\".info-data p:nth-child(4) .data\").get_attribute(name=\"innerText\")\n",
    "        keyword = div.find_element(by=By.CSS_SELECTOR, value=\".info-data p:nth-child(5)\").text.split(\"키워드 \")[1]\n",
    "\n",
    "        data = {\n",
    "            \"title\": title,\n",
    "            \"provider_organization\": provider_organization,\n",
    "            \"update_date\": update_date,\n",
    "            \"hits\": hits,\n",
    "            \"request_count\": request_count,\n",
    "            \"keyword\": keyword\n",
    "        }\n",
    "        data_list.append(data)\n",
    "\n",
    "with open(\"data_list.json\", \"w\", encoding=\"utf-8\") as f:\n",
    "    json.dump(data_list, f, indent=4, ensure_ascii=False)"
   ]
  }
 ],
 "metadata": {
  "kernelspec": {
   "display_name": "base",
   "language": "python",
   "name": "python3"
  },
  "language_info": {
   "codemirror_mode": {
    "name": "ipython",
    "version": 3
   },
   "file_extension": ".py",
   "mimetype": "text/x-python",
   "name": "python",
   "nbconvert_exporter": "python",
   "pygments_lexer": "ipython3",
   "version": "3.11.5"
  },
  "orig_nbformat": 4
 },
 "nbformat": 4,
 "nbformat_minor": 2
}
